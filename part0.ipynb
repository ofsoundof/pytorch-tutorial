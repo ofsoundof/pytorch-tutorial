{
 "cells": [
  {
   "cell_type": "markdown",
   "metadata": {},
   "source": [
    "# **Deep Learning with PyTorch** -  Introductory Lab\n",
    "\n",
    "## **Part 0:** Python Basics\n",
    "\n",
    "* This is a Python notebook  \n",
    "* You can evaluate the code in the cell, usually by pressing **Shift + Enter**\n",
    "* You can also modify the code and run it again\n",
    "* Lets start with an example ..."
   ]
  },
  {
   "cell_type": "code",
   "execution_count": null,
   "metadata": {},
   "outputs": [],
   "source": [
    "# Run the code in this cell\n",
    "\n",
    "1 + 3"
   ]
  },
  {
   "cell_type": "markdown",
   "metadata": {},
   "source": [
    "### Lists, tuples and object copying"
   ]
  },
  {
   "cell_type": "code",
   "execution_count": null,
   "metadata": {},
   "outputs": [],
   "source": [
    "# This is a list\n",
    "my_list = [4, 7, 'abc']\n",
    "\n",
    "# This is a tuple\n",
    "my_tuple = (9, 22, 'efg')\n",
    "\n",
    "# print\n",
    "print('my_list = ', my_list)\n",
    "print('my_tuple = ', my_tuple)\n",
    "\n",
    "# Concatenate two lists\n",
    "my_list2 = my_list + [66, 77]\n",
    "\n",
    "# Lets edit the list\n",
    "my_list3 = my_list\n",
    "my_list3[1] = 'a new element'\n",
    "\n",
    "print()\n",
    "print('my_list = ', my_list)\n",
    "print('my_list2 = ', my_list2)\n",
    "print('my_list3 = ', my_list3)"
   ]
  },
  {
   "cell_type": "markdown",
   "metadata": {},
   "source": [
    "* Oops! Also the original `my_list` was also modified.\n",
    "* Note that `my_list2` still contains the original part of `my_list`. So this was copied.\n",
    "\n",
    "**General note:** Python always copies objects by reference!"
   ]
  },
  {
   "cell_type": "code",
   "execution_count": null,
   "metadata": {},
   "outputs": [],
   "source": [
    "# Indexing a list (or tuple)\n",
    "print(my_list2)\n",
    "print(my_list2[2])\n",
    "print(my_list2[1:3])\n",
    "print(my_list2[:3])\n",
    "print(my_list2[2:])\n",
    "print(my_list2[2:-1])"
   ]
  },
  {
   "cell_type": "code",
   "execution_count": null,
   "metadata": {},
   "outputs": [],
   "source": [
    "# Modify a tuple\n",
    "my_tuple[0] = 6"
   ]
  },
  {
   "cell_type": "markdown",
   "metadata": {},
   "source": [
    "* Ok, now we know that is not possible."
   ]
  },
  {
   "cell_type": "markdown",
   "metadata": {},
   "source": [
    "### `if` and `for`\n",
    "\n",
    "* Its all about the **tab**."
   ]
  },
  {
   "cell_type": "code",
   "execution_count": null,
   "metadata": {},
   "outputs": [],
   "source": [
    "a = 5\n",
    "if a % 2 == 1:\n",
    "    print('True')\n",
    "else:\n",
    "    print('False')\n",
    "print('This is not part of the if statement')"
   ]
  },
  {
   "cell_type": "code",
   "execution_count": null,
   "metadata": {},
   "outputs": [],
   "source": [
    "# Simple for loop\n",
    "\n",
    "s = 0\n",
    "for n in range(4):\n",
    "    s += n\n",
    "    print('n = ', n)\n",
    "\n",
    "print('s = ', s)"
   ]
  },
  {
   "cell_type": "markdown",
   "metadata": {},
   "source": [
    "* Note that the loop does not include `n=4`"
   ]
  },
  {
   "cell_type": "code",
   "execution_count": null,
   "metadata": {},
   "outputs": [],
   "source": [
    "# Loop through a list\n",
    "\n",
    "for elem in my_list:\n",
    "    print(elem)"
   ]
  },
  {
   "cell_type": "markdown",
   "metadata": {},
   "source": [
    "### List Comprehension"
   ]
  },
  {
   "cell_type": "code",
   "execution_count": null,
   "metadata": {},
   "outputs": [],
   "source": [
    "# Create a list of all squares up to 10\n",
    "list_of_squares = [n**2 for n in range(11)]\n",
    "print(list_of_squares)"
   ]
  },
  {
   "cell_type": "markdown",
   "metadata": {},
   "source": [
    "### Dictionaries"
   ]
  },
  {
   "cell_type": "code",
   "execution_count": null,
   "metadata": {},
   "outputs": [],
   "source": [
    "# Create a dict\n",
    "my_dict = {'symbol': 'Ag',\n",
    "           'melting point': 1337,\n",
    "           'color': 'yellowish'}\n",
    "\n",
    "# Or\n",
    "my_dict2 = dict(symbol='Pb',\n",
    "                density=11.34,\n",
    "                oxidation_states=[-4, -2, -1, +1, +2, +3, +4])\n",
    "\n",
    "# Add element\n",
    "my_dict['density'] = 19.30\n",
    "\n",
    "print(my_dict)\n",
    "print(my_dict2)\n",
    "print()\n",
    "\n",
    "# Looping\n",
    "for key, val in my_dict.items():\n",
    "    print(key, val)"
   ]
  },
  {
   "cell_type": "markdown",
   "metadata": {},
   "source": [
    "### Functions"
   ]
  },
  {
   "cell_type": "code",
   "execution_count": null,
   "metadata": {},
   "outputs": [],
   "source": [
    "def factorial(n):\n",
    "    if n == 0:\n",
    "        return 1\n",
    "    ret = 1\n",
    "    for x in range(1,n+1):\n",
    "        ret *= x\n",
    "    return ret\n",
    "\n",
    "print('4! =', factorial(4))\n",
    "print('12! =', factorial(12))"
   ]
  },
  {
   "cell_type": "code",
   "execution_count": null,
   "metadata": {},
   "outputs": [],
   "source": [
    "# Keyword arguments are very useful!\n",
    "\n",
    "def str_find_replace(input_str, pattern, replace=''):\n",
    "    return input_str.replace(pattern, replace)\n",
    "\n",
    "s = 'this is a string'\n",
    "print(s)\n",
    "print(str_find_replace(s, 'is', 'still is'))\n",
    "print(str_find_replace(pattern='is', input_str=s, replace='still is'))\n",
    "print(str_find_replace(pattern='is', input_str=s))"
   ]
  },
  {
   "cell_type": "markdown",
   "metadata": {},
   "source": [
    "### Classes"
   ]
  },
  {
   "cell_type": "code",
   "execution_count": null,
   "metadata": {},
   "outputs": [],
   "source": [
    "class Element:\n",
    "    def __init__(self, symbol, number):\n",
    "        self.symbol = symbol\n",
    "        self.number = number\n",
    "    \n",
    "    def print_info(self):\n",
    "        print('Sybmol: {} ,  Atomic Number: {}'.format(self.symbol, self.number))   # Ok, here you also see how to do nice formating\n",
    "        \n",
    "# Inheritance\n",
    "class Metal(Element):\n",
    "    def __init__(self, symbol, number, is_shiny):\n",
    "        super().__init__(symbol, number)\n",
    "        self.is_shiny = is_shiny\n",
    "        \n",
    "\n",
    "# Define an object\n",
    "gold = Metal('Ag', number=72, is_shiny=True)\n",
    "\n",
    "gold.print_info()\n",
    "\n",
    "print('Gold {} shiny'.format('is' if gold.is_shiny else 'is not'))"
   ]
  },
  {
   "cell_type": "markdown",
   "metadata": {},
   "source": [
    "### Random useful things"
   ]
  },
  {
   "cell_type": "code",
   "execution_count": null,
   "metadata": {},
   "outputs": [],
   "source": [
    "# Convertion\n",
    "list_to_tuple = tuple(my_list)\n",
    "tuple_to_list = list(my_tuple)\n",
    "\n",
    "print(list_to_tuple)\n",
    "print(tuple_to_list)"
   ]
  },
  {
   "cell_type": "code",
   "execution_count": null,
   "metadata": {},
   "outputs": [],
   "source": [
    "# Unpacking\n",
    "some_tuple = (2, 'asd', 55)\n",
    "a, b, c = some_tuple\n",
    "print(c)"
   ]
  },
  {
   "cell_type": "markdown",
   "metadata": {},
   "source": [
    "### Lets move on to PyTorch in the next part ..."
   ]
  },
  {
   "cell_type": "code",
   "execution_count": null,
   "metadata": {},
   "outputs": [],
   "source": []
  }
 ],
 "metadata": {
  "kernelspec": {
   "display_name": "Python 3 (ipykernel)",
   "language": "python",
   "name": "python3"
  },
  "language_info": {
   "codemirror_mode": {
    "name": "ipython",
    "version": 3
   },
   "file_extension": ".py",
   "mimetype": "text/x-python",
   "name": "python",
   "nbconvert_exporter": "python",
   "pygments_lexer": "ipython3",
   "version": "3.10.9"
  }
 },
 "nbformat": 4,
 "nbformat_minor": 4
}
